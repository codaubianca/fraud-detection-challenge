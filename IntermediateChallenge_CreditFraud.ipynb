{
 "cells": [
  {
   "cell_type": "markdown",
   "id": "312d02f0",
   "metadata": {},
   "source": [
    "# Credit Card Fraud Detection "
   ]
  },
  {
   "cell_type": "markdown",
   "id": "bdb3f8f6",
   "metadata": {},
   "source": [
    "**European Banking Authority (EBA)** investigates fraudulent credit card transactions. Labeling the data takes a lot of investigation time and resources. The EBA needs help from linkit e.V.'s brightest minds to speed up the initial detection process."
   ]
  },
  {
   "cell_type": "markdown",
   "id": "24c53b50",
   "metadata": {},
   "source": [
    "<img src='images/EBAcredit.png'>"
   ]
  },
  {
   "cell_type": "markdown",
   "id": "d7a00cb4",
   "metadata": {},
   "source": [
    "EBA sends a dataset of **two** consecutive days of transaction records by european credit cardholders."
   ]
  },
  {
   "cell_type": "markdown",
   "id": "8c01c0dc",
   "metadata": {},
   "source": [
    "They started labeling **442 frauds** out of **284,807 transactions**. Therefore, the dataset is **highly unbalanced**. Since EBA's investigations are not completed, **not all frauds have been detected in the dataset**."
   ]
  },
  {
   "cell_type": "markdown",
   "id": "624b7506",
   "metadata": {},
   "source": [
    "# EBA estimates, that around 11% additional frauds must be detected"
   ]
  },
  {
   "cell_type": "markdown",
   "id": "343b2771",
   "metadata": {},
   "source": [
    "Help EBA to **detect all frauds by setting up a fraud detection model**."
   ]
  },
  {
   "cell_type": "markdown",
   "id": "f2744e12",
   "metadata": {},
   "source": [
    "Due to law restrictions EBA sends anonymous data. More specifically,\n",
    "\n",
    "- **28 principal components** obtained with **PCA** (column **V1, V2, ..., V28**)\n",
    "- **Time** is the number of **seconds** elapsed since the first transaction (note that two days have 172800 seconds and the first transaction starts at midnight, 12am)\n",
    "- **Amount** describes the amount of the credit card transaction in EUR\n",
    "- **Class** is the dependant variable that is **1** if EBA detected a fraudulent action and **0** otherwise. Investigations are **not** complete such that a little number of frauds still can be observed with label 0"
   ]
  },
  {
   "cell_type": "code",
   "execution_count": 1,
   "id": "1c771dbe",
   "metadata": {},
   "outputs": [],
   "source": [
    "# load packages\n",
    "import pandas as pd\n",
    "import numpy as np\n",
    "import seaborn as sns\n",
    "import matplotlib.pyplot as plt\n",
    "from datetime import datetime \n",
    "from sklearn.model_selection import train_test_split\n",
    "from sklearn.metrics import auc, precision_recall_curve, precision_score, recall_score, f1_score"
   ]
  },
  {
   "cell_type": "code",
   "execution_count": 2,
   "id": "eb4d0c80",
   "metadata": {},
   "outputs": [
    {
     "data": {
      "text/html": [
       "<div>\n",
       "<style scoped>\n",
       "    .dataframe tbody tr th:only-of-type {\n",
       "        vertical-align: middle;\n",
       "    }\n",
       "\n",
       "    .dataframe tbody tr th {\n",
       "        vertical-align: top;\n",
       "    }\n",
       "\n",
       "    .dataframe thead th {\n",
       "        text-align: right;\n",
       "    }\n",
       "</style>\n",
       "<table border=\"1\" class=\"dataframe\">\n",
       "  <thead>\n",
       "    <tr style=\"text-align: right;\">\n",
       "      <th></th>\n",
       "      <th>Time</th>\n",
       "      <th>V1</th>\n",
       "      <th>V2</th>\n",
       "      <th>V3</th>\n",
       "      <th>V4</th>\n",
       "      <th>V5</th>\n",
       "      <th>V6</th>\n",
       "      <th>V7</th>\n",
       "      <th>V8</th>\n",
       "      <th>V9</th>\n",
       "      <th>...</th>\n",
       "      <th>V21</th>\n",
       "      <th>V22</th>\n",
       "      <th>V23</th>\n",
       "      <th>V24</th>\n",
       "      <th>V25</th>\n",
       "      <th>V26</th>\n",
       "      <th>V27</th>\n",
       "      <th>V28</th>\n",
       "      <th>Amount</th>\n",
       "      <th>Class</th>\n",
       "    </tr>\n",
       "  </thead>\n",
       "  <tbody>\n",
       "    <tr>\n",
       "      <th>0</th>\n",
       "      <td>0.0</td>\n",
       "      <td>-1.359807</td>\n",
       "      <td>-0.072781</td>\n",
       "      <td>2.536347</td>\n",
       "      <td>1.378155</td>\n",
       "      <td>-0.338321</td>\n",
       "      <td>0.462388</td>\n",
       "      <td>0.239599</td>\n",
       "      <td>0.098698</td>\n",
       "      <td>0.363787</td>\n",
       "      <td>...</td>\n",
       "      <td>-0.018307</td>\n",
       "      <td>0.277838</td>\n",
       "      <td>-0.110474</td>\n",
       "      <td>0.066928</td>\n",
       "      <td>0.128539</td>\n",
       "      <td>-0.189115</td>\n",
       "      <td>0.133558</td>\n",
       "      <td>-0.021053</td>\n",
       "      <td>149.62</td>\n",
       "      <td>0</td>\n",
       "    </tr>\n",
       "    <tr>\n",
       "      <th>1</th>\n",
       "      <td>0.0</td>\n",
       "      <td>1.191857</td>\n",
       "      <td>0.266151</td>\n",
       "      <td>0.166480</td>\n",
       "      <td>0.448154</td>\n",
       "      <td>0.060018</td>\n",
       "      <td>-0.082361</td>\n",
       "      <td>-0.078803</td>\n",
       "      <td>0.085102</td>\n",
       "      <td>-0.255425</td>\n",
       "      <td>...</td>\n",
       "      <td>-0.225775</td>\n",
       "      <td>-0.638672</td>\n",
       "      <td>0.101288</td>\n",
       "      <td>-0.339846</td>\n",
       "      <td>0.167170</td>\n",
       "      <td>0.125895</td>\n",
       "      <td>-0.008983</td>\n",
       "      <td>0.014724</td>\n",
       "      <td>2.69</td>\n",
       "      <td>0</td>\n",
       "    </tr>\n",
       "    <tr>\n",
       "      <th>2</th>\n",
       "      <td>1.0</td>\n",
       "      <td>-1.358354</td>\n",
       "      <td>-1.340163</td>\n",
       "      <td>1.773209</td>\n",
       "      <td>0.379780</td>\n",
       "      <td>-0.503198</td>\n",
       "      <td>1.800499</td>\n",
       "      <td>0.791461</td>\n",
       "      <td>0.247676</td>\n",
       "      <td>-1.514654</td>\n",
       "      <td>...</td>\n",
       "      <td>0.247998</td>\n",
       "      <td>0.771679</td>\n",
       "      <td>0.909412</td>\n",
       "      <td>-0.689281</td>\n",
       "      <td>-0.327642</td>\n",
       "      <td>-0.139097</td>\n",
       "      <td>-0.055353</td>\n",
       "      <td>-0.059752</td>\n",
       "      <td>378.66</td>\n",
       "      <td>0</td>\n",
       "    </tr>\n",
       "    <tr>\n",
       "      <th>3</th>\n",
       "      <td>1.0</td>\n",
       "      <td>-0.966272</td>\n",
       "      <td>-0.185226</td>\n",
       "      <td>1.792993</td>\n",
       "      <td>-0.863291</td>\n",
       "      <td>-0.010309</td>\n",
       "      <td>1.247203</td>\n",
       "      <td>0.237609</td>\n",
       "      <td>0.377436</td>\n",
       "      <td>-1.387024</td>\n",
       "      <td>...</td>\n",
       "      <td>-0.108300</td>\n",
       "      <td>0.005274</td>\n",
       "      <td>-0.190321</td>\n",
       "      <td>-1.175575</td>\n",
       "      <td>0.647376</td>\n",
       "      <td>-0.221929</td>\n",
       "      <td>0.062723</td>\n",
       "      <td>0.061458</td>\n",
       "      <td>123.50</td>\n",
       "      <td>0</td>\n",
       "    </tr>\n",
       "    <tr>\n",
       "      <th>4</th>\n",
       "      <td>2.0</td>\n",
       "      <td>-1.158233</td>\n",
       "      <td>0.877737</td>\n",
       "      <td>1.548718</td>\n",
       "      <td>0.403034</td>\n",
       "      <td>-0.407193</td>\n",
       "      <td>0.095921</td>\n",
       "      <td>0.592941</td>\n",
       "      <td>-0.270533</td>\n",
       "      <td>0.817739</td>\n",
       "      <td>...</td>\n",
       "      <td>-0.009431</td>\n",
       "      <td>0.798278</td>\n",
       "      <td>-0.137458</td>\n",
       "      <td>0.141267</td>\n",
       "      <td>-0.206010</td>\n",
       "      <td>0.502292</td>\n",
       "      <td>0.219422</td>\n",
       "      <td>0.215153</td>\n",
       "      <td>69.99</td>\n",
       "      <td>0</td>\n",
       "    </tr>\n",
       "  </tbody>\n",
       "</table>\n",
       "<p>5 rows × 31 columns</p>\n",
       "</div>"
      ],
      "text/plain": [
       "   Time        V1        V2        V3        V4        V5        V6        V7  \\\n",
       "0   0.0 -1.359807 -0.072781  2.536347  1.378155 -0.338321  0.462388  0.239599   \n",
       "1   0.0  1.191857  0.266151  0.166480  0.448154  0.060018 -0.082361 -0.078803   \n",
       "2   1.0 -1.358354 -1.340163  1.773209  0.379780 -0.503198  1.800499  0.791461   \n",
       "3   1.0 -0.966272 -0.185226  1.792993 -0.863291 -0.010309  1.247203  0.237609   \n",
       "4   2.0 -1.158233  0.877737  1.548718  0.403034 -0.407193  0.095921  0.592941   \n",
       "\n",
       "         V8        V9  ...       V21       V22       V23       V24       V25  \\\n",
       "0  0.098698  0.363787  ... -0.018307  0.277838 -0.110474  0.066928  0.128539   \n",
       "1  0.085102 -0.255425  ... -0.225775 -0.638672  0.101288 -0.339846  0.167170   \n",
       "2  0.247676 -1.514654  ...  0.247998  0.771679  0.909412 -0.689281 -0.327642   \n",
       "3  0.377436 -1.387024  ... -0.108300  0.005274 -0.190321 -1.175575  0.647376   \n",
       "4 -0.270533  0.817739  ... -0.009431  0.798278 -0.137458  0.141267 -0.206010   \n",
       "\n",
       "        V26       V27       V28  Amount  Class  \n",
       "0 -0.189115  0.133558 -0.021053  149.62      0  \n",
       "1  0.125895 -0.008983  0.014724    2.69      0  \n",
       "2 -0.139097 -0.055353 -0.059752  378.66      0  \n",
       "3 -0.221929  0.062723  0.061458  123.50      0  \n",
       "4  0.502292  0.219422  0.215153   69.99      0  \n",
       "\n",
       "[5 rows x 31 columns]"
      ]
     },
     "execution_count": 2,
     "metadata": {},
     "output_type": "execute_result"
    }
   ],
   "source": [
    "# read the EBA dataset\n",
    "dat = pd.read_csv('EBA_KreditkartenBetrug.csv')\n",
    "dat.head()"
   ]
  },
  {
   "cell_type": "code",
   "execution_count": 3,
   "id": "fbb0a4de",
   "metadata": {},
   "outputs": [],
   "source": [
    "# perform a train test split\n",
    "X = dat.loc[:,dat.columns!='Class']\n",
    "y = dat['Class']\n",
    "X_train, X_test, y_train, y_test = train_test_split(X, y, random_state=0, train_size = .75)"
   ]
  },
  {
   "cell_type": "markdown",
   "id": "2663b3e3",
   "metadata": {},
   "source": [
    "# Random Forest Classifier\n",
    "\n",
    "We will use a RandomForestClassifier as Baseline model"
   ]
  },
  {
   "cell_type": "code",
   "execution_count": 4,
   "id": "e5390c88",
   "metadata": {},
   "outputs": [],
   "source": [
    "from sklearn.ensemble import RandomForestClassifier\n",
    "NUM_ESTIMATORS = 100"
   ]
  },
  {
   "cell_type": "code",
   "execution_count": 5,
   "id": "e7161142",
   "metadata": {},
   "outputs": [],
   "source": [
    "# instantiate the classifier \n",
    "clf = RandomForestClassifier(random_state=0,\n",
    "                             n_estimators=NUM_ESTIMATORS,\n",
    "                             verbose=False)"
   ]
  },
  {
   "cell_type": "code",
   "execution_count": 6,
   "id": "3b3e9044",
   "metadata": {},
   "outputs": [
    {
     "data": {
      "text/plain": [
       "RandomForestClassifier(random_state=0, verbose=False)"
      ]
     },
     "execution_count": 6,
     "metadata": {},
     "output_type": "execute_result"
    }
   ],
   "source": [
    "# fit the model to the training data\n",
    "clf.fit(X_train,y_train)"
   ]
  },
  {
   "cell_type": "code",
   "execution_count": 7,
   "id": "2abe509d",
   "metadata": {},
   "outputs": [],
   "source": [
    "# get predictions for test data\n",
    "preds = clf.predict(X_test)"
   ]
  },
  {
   "cell_type": "code",
   "execution_count": 8,
   "id": "c15bbf28",
   "metadata": {},
   "outputs": [],
   "source": [
    "precision = precision_score(y_test,preds)\n",
    "recall = recall_score(y_test,preds)\n",
    "f1 = f1_score(y_test,preds)"
   ]
  },
  {
   "cell_type": "code",
   "execution_count": 9,
   "id": "bdb6f318",
   "metadata": {},
   "outputs": [
    {
     "name": "stdout",
     "output_type": "stream",
     "text": [
      "The model's precision score is 0.8556\n",
      "The model's recall score is 0.7064\n",
      "The model's F1 score is 0.7739\n"
     ]
    }
   ],
   "source": [
    "print(f\"The model's precision score is {round(precision,4)}\")\n",
    "print(f\"The model's recall score is {round(recall,4)}\")\n",
    "print(f\"The model's F1 score is {round(f1,4)}\")"
   ]
  },
  {
   "cell_type": "markdown",
   "id": "9e41b3d4",
   "metadata": {},
   "source": [
    "## Confusion Matrix\n",
    "As it can be observed in the confusion matrix, the classes are highly imbalanced. Therefore, the typical metrics for classification (such as Accuracy) are not meaningful in this scenario. For example, if 99 transactions are no frauds and 1 transaction is a fraud, a model which always predicts \"no fraud\" will reach 99% Accuracy, although it is not a good model for predictions. Both measures, Precision and Recall, focus on the minority class of positive frauds, which is what we want! But we need a combination of both!"
   ]
  },
  {
   "cell_type": "code",
   "execution_count": 10,
   "id": "b4e99b34",
   "metadata": {},
   "outputs": [
    {
     "data": {
      "image/png": "[encoded data removed]",
      "text/plain": [
       "<Figure size 360x360 with 2 Axes>"
      ]
     },
     "metadata": {
      "needs_background": "light"
     },
     "output_type": "display_data"
    }
   ],
   "source": [
    "cm = pd.crosstab(y_test.values, preds, rownames=['Actual'], colnames=['Predicted'])\n",
    "fig, (ax1) = plt.subplots(ncols=1, figsize=(5,5))\n",
    "sns.heatmap(cm, \n",
    "            xticklabels=['Not Fraud', 'Fraud'],\n",
    "            yticklabels=['Not Fraud', 'Fraud'],\n",
    "            annot=True,ax=ax1,\n",
    "            linewidths=.2,linecolor=\"Darkblue\", cmap=\"Blues\")\n",
    "plt.title('Confusion Matrix', fontsize=14)\n",
    "plt.show()"
   ]
  },
  {
   "cell_type": "markdown",
   "id": "e11f6bd4",
   "metadata": {},
   "source": [
    "## AUPRC - Area Under the Precision Recall Curve is your evaluation\n",
    "A precision-recall curve (or PR Curve) is a plot of the precision (y-axis) and the recall (x-axis) for different probability thresholds. A model with perfect skill is depicted as a point at a coordinate of (1,1).  \n",
    "A skillful model is represented by a curve that bows towards a coordinate of (1,1). A no-skill classifier will be a horizontal line on the plot with a precision that is proportional to the number of positive examples in the dataset. For a balanced dataset this will be 0.5.  \n",
    "The focus of the PR curve on the minority class makes it an effective diagnostic for imbalanced binary classification models."
   ]
  },
  {
   "cell_type": "code",
   "execution_count": 11,
   "id": "6bbcc8b0",
   "metadata": {},
   "outputs": [],
   "source": [
    "precision, recall, _ = precision_recall_curve(y_test, preds)"
   ]
  },
  {
   "cell_type": "code",
   "execution_count": 12,
   "id": "9e9280be",
   "metadata": {},
   "outputs": [
    {
     "data": {
      "image/png": "[encoded data removed]",
      "text/plain": [
       "<Figure size 432x288 with 1 Axes>"
      ]
     },
     "metadata": {
      "needs_background": "light"
     },
     "output_type": "display_data"
    }
   ],
   "source": [
    "# calculate the no skill line as the proportion of the positive class\n",
    "no_skill = y_test.mean()\n",
    "# plot the no skill precision-recall curve\n",
    "plt.plot([0, 1], [no_skill, no_skill], linestyle='--', label='No Skill')\n",
    "plt.plot(recall, precision, marker='.', label='RandomForestClassifier')\n",
    "# axis labels\n",
    "plt.xlabel('Recall')\n",
    "plt.ylabel('Precision')\n",
    "# show the legend\n",
    "plt.legend()\n",
    "# show the plot\n",
    "plt.show()"
   ]
  },
  {
   "cell_type": "code",
   "execution_count": 13,
   "id": "1400ece9",
   "metadata": {},
   "outputs": [
    {
     "data": {
      "text/plain": [
       "0.7812134997410562"
      ]
     },
     "execution_count": 13,
     "metadata": {},
     "output_type": "execute_result"
    }
   ],
   "source": [
    "auprc_score = auc(recall,precision)\n",
    "auprc_score"
   ]
  },
  {
   "cell_type": "markdown",
   "id": "f19397e5",
   "metadata": {},
   "source": [
    "# Submission of fraudulent transactions "
   ]
  },
  {
   "cell_type": "code",
   "execution_count": 14,
   "id": "3695ac01",
   "metadata": {},
   "outputs": [
    {
     "ename": "ValueError",
     "evalue": "zero-dimensional arrays cannot be concatenated",
     "output_type": "error",
     "traceback": [
      "\u001b[1;31m---------------------------------------------------------------------------\u001b[0m",
      "\u001b[1;31mValueError\u001b[0m                                Traceback (most recent call last)",
      "\u001b[1;32md:\\Work\\Linkit\\IntermediateChallenge2022\\fraud-detection-challenge\\IntermediateChallenge_CreditFraud.ipynb Cell 26'\u001b[0m in \u001b[0;36m<cell line: 2>\u001b[1;34m()\u001b[0m\n\u001b[0;32m      <a href='vscode-notebook-cell:/d%3A/Work/Linkit/IntermediateChallenge2022/fraud-detection-challenge/IntermediateChallenge_CreditFraud.ipynb#ch0000025?line=0'>1</a>\u001b[0m \u001b[39m# combine the predicitons on the train and test\u001b[39;00m\n\u001b[0;32m      <a href='vscode-notebook-cell:/d%3A/Work/Linkit/IntermediateChallenge2022/fraud-detection-challenge/IntermediateChallenge_CreditFraud.ipynb#ch0000025?line=1'>2</a>\u001b[0m submission \u001b[39m=\u001b[39m pd\u001b[39m.\u001b[39mDataFrame(clf\u001b[39m.\u001b[39mpredict(X), \\\n\u001b[1;32m----> <a href='vscode-notebook-cell:/d%3A/Work/Linkit/IntermediateChallenge2022/fraud-detection-challenge/IntermediateChallenge_CreditFraud.ipynb#ch0000025?line=2'>3</a>\u001b[0m                           index\u001b[39m=\u001b[39mnp\u001b[39m.\u001b[39;49mconcatenate(X\u001b[39m.\u001b[39;49mindex), \\\n\u001b[0;32m      <a href='vscode-notebook-cell:/d%3A/Work/Linkit/IntermediateChallenge2022/fraud-detection-challenge/IntermediateChallenge_CreditFraud.ipynb#ch0000025?line=3'>4</a>\u001b[0m                           columns\u001b[39m=\u001b[39m[\u001b[39m'\u001b[39m\u001b[39mAdvancedDetection\u001b[39m\u001b[39m'\u001b[39m])\n",
      "File \u001b[1;32m<__array_function__ internals>:180\u001b[0m, in \u001b[0;36mconcatenate\u001b[1;34m(*args, **kwargs)\u001b[0m\n",
      "\u001b[1;31mValueError\u001b[0m: zero-dimensional arrays cannot be concatenated"
     ]
    }
   ],
   "source": [
    "# combine the predicitons on the train and test\n",
    "submission = pd.DataFrame(clf.predict(X), \\\n",
    "                          index=np.concatenate(X.index), \\\n",
    "                          columns=['AdvancedDetection'])"
   ]
  },
  {
   "cell_type": "code",
   "execution_count": null,
   "id": "c4a96be4",
   "metadata": {},
   "outputs": [],
   "source": [
    "# Label the KNOWN fraudulent transactions\n",
    "submission.loc[y[y==1].index,'AdvancedDetection'] = 1"
   ]
  },
  {
   "cell_type": "code",
   "execution_count": null,
   "id": "f6f9816b",
   "metadata": {},
   "outputs": [
    {
     "data": {
      "text/plain": [
       "458"
      ]
     },
     "execution_count": 46,
     "metadata": {},
     "output_type": "execute_result"
    }
   ],
   "source": [
    "# How many frauds are there now?\n",
    "submission['AdvancedDetection'].sum()"
   ]
  },
  {
   "cell_type": "markdown",
   "id": "1c242c69",
   "metadata": {},
   "source": [
    "### Remember, EBA estimates that there are close to 11% more frauds "
   ]
  },
  {
   "cell_type": "code",
   "execution_count": null,
   "id": "542dcf20",
   "metadata": {},
   "outputs": [
    {
     "name": "stdout",
     "output_type": "stream",
     "text": [
      "Advanced Detection Method labels 4.0% more frauds\n"
     ]
    }
   ],
   "source": [
    "# What is your percentage?\n",
    "print('Advanced Detection Method labels {}% more frauds'.format(\\\n",
    "    np.round((submission['AdvancedDetection'].sum()-y.sum())/y.sum()*100),2))"
   ]
  },
  {
   "cell_type": "code",
   "execution_count": null,
   "id": "aff48767",
   "metadata": {},
   "outputs": [],
   "source": [
    "# EBA requests the whole 284,807 Class labels with hopefully\n",
    "# some more insights on some other fraudulent transations\n",
    "# that were not labled by the EBA\n",
    "\n",
    "# PLEASE INSERT YOUR GROUP NAME\n",
    "submission.to_csv('submission_GroupName.csv')"
   ]
  }
 ],
 "metadata": {
  "kernelspec": {
   "display_name": "Python 3.8.13 ('dataScienceEnv')",
   "language": "python",
   "name": "python3"
  },
  "language_info": {
   "codemirror_mode": {
    "name": "ipython",
    "version": 3
   },
   "file_extension": ".py",
   "mimetype": "text/x-python",
   "name": "python",
   "nbconvert_exporter": "python",
   "pygments_lexer": "ipython3",
   "version": "3.8.13"
  },
  "vscode": {
   "interpreter": {
    "hash": "ea6509143096dfd3cd6afc9620ad6097aa4d0af3b42eee7c97bda999f81b1f2a"
   }
  }
 },
 "nbformat": 4,
 "nbformat_minor": 5
}
